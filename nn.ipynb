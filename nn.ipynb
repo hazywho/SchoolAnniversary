{
 "cells": [
  {
   "cell_type": "code",
   "execution_count": null,
   "metadata": {},
   "outputs": [],
   "source": [
    "p = [pi for pi in range(22,54)]+[re for re in range(2,6)]\n",
    "for re in range(2,6):\n",
    "    p.append(re)\n",
    "led = [l for l in range(1,37)]\n",
    "combo=[]\n",
    "for y in range(1,7):\n",
    "    for x in range(1,7):\n",
    "        combo.append(str(f\"{y}{x}\"))\n",
    "\n",
    "for index in range(36):\n",
    "    code = \"{if(switch\"+str(led[index])+\"==0)\"+\"{digitalWrite(\"+str(p[index])+\",HIGH); switch\"+str(led[index])+\"=1;}else{digitalWrite(\"+str(p[index])+\",LOW); switch\"+str(led[index])+\"=0;}}\"\n",
    "    print(f\"int switch{led[index]}=0; if(serialData==\\\"{combo[index]}\\\"){code}\")\n",
    "    print(\"\")\n",
    "print(p)\n",
    "for i in range(1,37):\n",
    "    print(f\"switch{i}\",end=\", \")\n",
    "    \n",
    "def writeCoordsIntoMega(xy):\n",
    "    print(xy)\n",
    "    for index in range(0,len(xy),2):\n",
    "        coords = [xy[index:index+2]]\n",
    "        print(coords)\n",
    "\n",
    "writeCoordsIntoMega(\"1234\")"
   ]
  },
  {
   "cell_type": "code",
   "execution_count": null,
   "metadata": {},
   "outputs": [],
   "source": []
  }
 ],
 "metadata": {
  "language_info": {
   "name": "python"
  }
 },
 "nbformat": 4,
 "nbformat_minor": 2
}
